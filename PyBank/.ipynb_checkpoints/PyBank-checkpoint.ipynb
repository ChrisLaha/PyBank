{
 "cells": [
  {
   "cell_type": "code",
   "execution_count": 35,
   "metadata": {},
   "outputs": [
    {
     "data": {
      "text/plain": [
       "'C:\\\\Users\\\\Christian\\\\Desktop\\\\python-homework\\\\PyBank'"
      ]
     },
     "execution_count": 35,
     "metadata": {},
     "output_type": "execute_result"
    }
   ],
   "source": [
    "pwd"
   ]
  },
  {
   "cell_type": "code",
   "execution_count": 36,
   "metadata": {},
   "outputs": [
    {
     "name": "stdout",
     "output_type": "stream",
     "text": [
      "C:\\Users\\Christian\\Desktop\\python-homework\\PyBank\\resources\n"
     ]
    }
   ],
   "source": [
    "cd resources"
   ]
  },
  {
   "cell_type": "code",
   "execution_count": 40,
   "metadata": {},
   "outputs": [
    {
     "name": "stdout",
     "output_type": "stream",
     "text": [
      "Financial Analysis\n",
      "----------------------------\n",
      "Total Months: 86\n",
      "Total: $38382578\n",
      "Average Change: -2315.12\n",
      "Greatest Increase in Profits: Feb-2012 ($1926159)\n",
      "Greatest Decrease in Profits: Sep-2013 ($-2196167)\n"
     ]
    }
   ],
   "source": [
    "from pathlib import Path\n",
    "import os\n",
    "import csv\n",
    "\n",
    "budget_csv = os.path.join(\"Resources\",\"budget_csv.csv\")\n",
    "\n",
    "total_months = []\n",
    "net_pnl = []\n",
    "monthly_profit_change = []\n",
    " \n",
    "with open('budget_csv.csv', 'r') as budget:\n",
    "    reader = csv.reader(budget, delimiter= ',') \n",
    "\n",
    "    header = next(reader)  \n",
    "\n",
    "    for row in reader: \n",
    "\n",
    "        total_months.append(row[0])\n",
    "        net_pnl.append(int(row[1]))\n",
    "\n",
    "    for i in range(len(net_pnl)-1):\n",
    "        \n",
    "        monthly_profit_change.append(net_pnl[i+1]-net_pnl[i])\n",
    "        \n",
    "greatest_increase = max(monthly_profit_change)\n",
    "greatest_decrease = min(monthly_profit_change)\n",
    "\n",
    "max_increase_month = monthly_profit_change.index(max(monthly_profit_change)) + 1\n",
    "max_decrease_month = monthly_profit_change.index(min(monthly_profit_change)) + 1 \n",
    "\n",
    "print(\"Financial Analysis\")\n",
    "print(\"----------------------------\")\n",
    "print(f\"Total Months: {len(total_months)}\")\n",
    "print(f\"Total: ${sum(net_pnl)}\")\n",
    "print(f\"Average Change: {round(sum(monthly_profit_change)/len(monthly_profit_change),2)}\")\n",
    "print(f\"Greatest Increase in Profits: {total_months[max_increase_month]} (${(str(greatest_increase))})\")\n",
    "print(f\"Greatest Decrease in Profits: {total_months[max_decrease_month]} (${(str(greatest_decrease))})\")\n",
    "\n",
    "\n",
    "\n",
    "with open('financial_analysis.txt', 'w') as text:\n",
    "    \n",
    "    text.write(\"Financial Analysis\")\n",
    "    text.write(\"\\n\")\n",
    "    text.write(\"----------------------------\")\n",
    "    text.write(\"\\n\")\n",
    "    text.write(f\"Total Months: {len(total_months)}\")\n",
    "    text.write(\"\\n\")\n",
    "    text.write(f\"Total: ${sum(net_pnl)}\")\n",
    "    text.write(\"\\n\")\n",
    "    text.write(f\"Average Change: {round(sum(monthly_profit_change)/len(monthly_profit_change),2)}\")\n",
    "    text.write(\"\\n\")\n",
    "    text.write(f\"Greatest Increase in Profits: {total_months[max_increase_month]} (${(str(greatest_increase))})\")\n",
    "    text.write(\"\\n\")\n",
    "    text.write(f\"Greatest Decrease in Profits: {total_months[max_decrease_month]} (${(str(greatest_decrease))})\")"
   ]
  },
  {
   "cell_type": "code",
   "execution_count": null,
   "metadata": {},
   "outputs": [],
   "source": []
  }
 ],
 "metadata": {
  "kernelspec": {
   "display_name": "Python 3",
   "language": "python",
   "name": "python3"
  },
  "language_info": {
   "codemirror_mode": {
    "name": "ipython",
    "version": 3
   },
   "file_extension": ".py",
   "mimetype": "text/x-python",
   "name": "python",
   "nbconvert_exporter": "python",
   "pygments_lexer": "ipython3",
   "version": "3.7.6"
  }
 },
 "nbformat": 4,
 "nbformat_minor": 4
}
